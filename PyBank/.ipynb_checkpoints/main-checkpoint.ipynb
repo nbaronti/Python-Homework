{
 "cells": [
  {
   "cell_type": "code",
   "execution_count": 6,
   "id": "60cf8213-cf79-47f3-8b75-6feda1bf5a09",
   "metadata": {},
   "outputs": [
    {
     "name": "stdout",
     "output_type": "stream",
     "text": [
      "---------Financial Analysis----------\n",
      "Total Number of Months: 86\n",
      "Total Profit: $38,382,578\n",
      "Monthly Average Profit: $446,309.05\n",
      "Worst Monthly Loss: Sep-2013 ($-1,196,225)\n",
      "Best Monthly Profit: Feb-2012 ($1,170,593)\n"
     ]
    }
   ],
   "source": [
    "# Import Path from pathlib library & import csv library\n",
    "from pathlib import Path\n",
    "import csv\n",
    "\n",
    "# Set the file path for the budget_data.csv file\n",
    "budget_csvpath = Path(\"budget_data.csv\")\n",
    "\n",
    "# Establish variables for output financial analysis calculations\n",
    "total_profit_loss = 0\n",
    "count_months = 0\n",
    "average_profit_loss = 0\n",
    "maximum_profit = 0\n",
    "maximum_profit_month = \"\"\n",
    "minimum_loss = 0\n",
    "minimum_loss_month = \"\"\n",
    "\n",
    "# Open the file path as a file object\n",
    "with open(budget_csvpath, \"r\") as budget_csvfile:\n",
    "\n",
    "    # Run the csv file through the csv.reader() function and return the budget_csvreader object\n",
    "    budget_csvreader = csv.reader(budget_csvfile, delimiter=',')\n",
    "\n",
    "    # Establish header variable for csv file header\n",
    "    header = next(budget_csvreader)\n",
    "\n",
    "    # For each row of the csv file after the header\n",
    "    for row in budget_csvreader:\n",
    "        \n",
    "        # Establish temporary variable for monthly profit & loss and set as integer\n",
    "        month_profit_loss = int(row[1])\n",
    "        \n",
    "        # Establish temporary variable for month (string)\n",
    "        month = row[0]\n",
    "       \n",
    "        # Add monthly profit or loss to total profit/loss balance\n",
    "        # Add month to total count of months\n",
    "        total_profit_loss += month_profit_loss\n",
    "        count_months += 1\n",
    "\n",
    "        # If statement to determine if monthly profit or loss is the new mimimum or maximum value\n",
    "        if minimum_loss == 0:\n",
    "            minimum_loss = month_profit_loss\n",
    "            minimum_loss_month = month\n",
    "        elif minimum_loss > month_profit_loss:\n",
    "            minimum_loss = month_profit_loss\n",
    "            minimum_loss_month = month\n",
    "        elif maximum_profit < month_profit_loss:\n",
    "            maximum_profit = month_profit_loss\n",
    "            maximum_profit_month = month\n",
    "\n",
    "# Calculate average monthly profit or loss\n",
    "average_profit_loss = round(total_profit_loss / count_months, 2)\n",
    "\n",
    "# Format float variables to currency format\n",
    "total_profit_loss = \"${:,.0f}\".format(total_profit_loss)\n",
    "average_profit_loss = \"${:,.2f}\".format(average_profit_loss)\n",
    "minimum_loss = \"${:,.0f}\".format(minimum_loss)\n",
    "maximum_profit = \"${:,.0f}\".format(maximum_profit)\n",
    "\n",
    "# Print the results of financial analysis and export to new txt file\n",
    "print(\"---------Financial Analysis----------\", \n",
    "      f\"Total Number of Months: {count_months}\",   \n",
    "      f\"Total Profit: {total_profit_loss}\",\n",
    "      f\"Monthly Average Profit: {average_profit_loss}\",\n",
    "      f\"Worst Monthly Loss: {minimum_loss_month} ({minimum_loss})\",\n",
    "      f\"Best Monthly Profit: {maximum_profit_month} ({maximum_profit})\",\n",
    "      sep=\"\\n\",\n",
    "      file = open(\"budget_data_output.txt\", \"a\"))\n",
    "\n",
    "# Print results to terminal\n",
    "print(\"---------Financial Analysis----------\", \n",
    "      f\"Total Number of Months: {count_months}\",   \n",
    "      f\"Total Profit: {total_profit_loss}\",\n",
    "      f\"Monthly Average Profit: {average_profit_loss}\",\n",
    "      f\"Worst Monthly Loss: {minimum_loss_month} ({minimum_loss})\",\n",
    "      f\"Best Monthly Profit: {maximum_profit_month} ({maximum_profit})\",\n",
    "      sep=\"\\n\",)"
   ]
  },
  {
   "cell_type": "code",
   "execution_count": 7,
   "id": "2a8e2124-d469-45c6-bc28-b5d4036ccf0b",
   "metadata": {},
   "outputs": [],
   "source": [
    "# Clear contents of budget_data_output txt file\n",
    "\n",
    "file = open(\"budget_data_output.txt\",\"w\")\n",
    "file.close()"
   ]
  },
  {
   "cell_type": "code",
   "execution_count": null,
   "id": "7192c753-2db3-461a-be4c-076fe53dcbe5",
   "metadata": {},
   "outputs": [],
   "source": []
  }
 ],
 "metadata": {
  "kernelspec": {
   "display_name": "Python 3 (ipykernel)",
   "language": "python",
   "name": "python3"
  },
  "language_info": {
   "codemirror_mode": {
    "name": "ipython",
    "version": 3
   },
   "file_extension": ".py",
   "mimetype": "text/x-python",
   "name": "python",
   "nbconvert_exporter": "python",
   "pygments_lexer": "ipython3",
   "version": "3.8.8"
  }
 },
 "nbformat": 4,
 "nbformat_minor": 5
}
